{
 "cells": [
  {
   "cell_type": "code",
   "execution_count": 1,
   "id": "61a93475",
   "metadata": {
    "_cell_guid": "b1076dfc-b9ad-4769-8c92-a6c4dae69d19",
    "_uuid": "8f2839f25d086af736a60e9eeb907d3b93b6e0e5",
    "execution": {
     "iopub.execute_input": "2024-09-21T18:31:46.743799Z",
     "iopub.status.busy": "2024-09-21T18:31:46.742560Z",
     "iopub.status.idle": "2024-09-21T18:31:49.360756Z",
     "shell.execute_reply": "2024-09-21T18:31:49.359702Z"
    },
    "papermill": {
     "duration": 2.628064,
     "end_time": "2024-09-21T18:31:49.363381",
     "exception": false,
     "start_time": "2024-09-21T18:31:46.735317",
     "status": "completed"
    },
    "tags": []
   },
   "outputs": [],
   "source": [
    "import os\n",
    "from tqdm import tqdm \n",
    "import pandas as pd\n",
    "\n",
    "import numpy as np\n",
    "import pandas as pd\n",
    "import matplotlib.pyplot as plt\n",
    "from sklearn.cluster import DBSCAN\n",
    "from sklearn.preprocessing import StandardScaler\n",
    "from sklearn.metrics import silhouette_score, davies_bouldin_score\n",
    "import matplotlib.pyplot as plt\n",
    "import seaborn as sns"
   ]
  },
  {
   "cell_type": "markdown",
   "id": "ee702c16",
   "metadata": {
    "papermill": {
     "duration": 0.00428,
     "end_time": "2024-09-21T18:31:49.372660",
     "exception": false,
     "start_time": "2024-09-21T18:31:49.368380",
     "status": "completed"
    },
    "tags": []
   },
   "source": [
    "# DATA "
   ]
  },
  {
   "cell_type": "code",
   "execution_count": 2,
   "id": "28eb4e48",
   "metadata": {
    "execution": {
     "iopub.execute_input": "2024-09-21T18:31:49.383687Z",
     "iopub.status.busy": "2024-09-21T18:31:49.383102Z",
     "iopub.status.idle": "2024-09-21T18:31:49.490311Z",
     "shell.execute_reply": "2024-09-21T18:31:49.489078Z"
    },
    "papermill": {
     "duration": 0.115651,
     "end_time": "2024-09-21T18:31:49.492990",
     "exception": false,
     "start_time": "2024-09-21T18:31:49.377339",
     "status": "completed"
    },
    "tags": []
   },
   "outputs": [],
   "source": [
    "stops=pd.read_csv('/kaggle/input/stops-tesi/stops.csv')\n",
    "stops = stops[\n",
    "    (stops['LATITUDE'] >= 49.9) & (stops['LATITUDE'] <= 55.8) &\n",
    "    (stops['LONGITUDE'] >= -6.4) & (stops['LONGITUDE'] <= 1.8) & (stops['DURATION']>2)\n",
    "]\n",
    "\n",
    "ports=pd.read_csv('/kaggle/input/tutti-i-porti/PORTS.csv')\n",
    "ports = ports[\n",
    "    (ports['LATITUDE'] >= 49.9) & (ports['LATITUDE'] <= 55.8) &\n",
    "    (ports['LONGITUDE'] >= -6.4) & (ports['LONGITUDE'] <= 1.8)\n",
    "]"
   ]
  },
  {
   "cell_type": "markdown",
   "id": "e1a91271",
   "metadata": {
    "papermill": {
     "duration": 0.004323,
     "end_time": "2024-09-21T18:31:49.502145",
     "exception": false,
     "start_time": "2024-09-21T18:31:49.497822",
     "status": "completed"
    },
    "tags": []
   },
   "source": [
    "# Funzioni"
   ]
  },
  {
   "cell_type": "code",
   "execution_count": 3,
   "id": "8591e589",
   "metadata": {
    "execution": {
     "iopub.execute_input": "2024-09-21T18:31:49.513335Z",
     "iopub.status.busy": "2024-09-21T18:31:49.512882Z",
     "iopub.status.idle": "2024-09-21T18:31:49.756388Z",
     "shell.execute_reply": "2024-09-21T18:31:49.755207Z"
    },
    "papermill": {
     "duration": 0.252182,
     "end_time": "2024-09-21T18:31:49.759077",
     "exception": false,
     "start_time": "2024-09-21T18:31:49.506895",
     "status": "completed"
    },
    "tags": []
   },
   "outputs": [],
   "source": [
    "from sklearn.cluster import DBSCAN\n",
    "import pandas as pd\n",
    "\n",
    "def dbscan_clustering(stops, eps, min_samples):\n",
    "    \n",
    "    \n",
    "    # Seleziona le colonne delle coordinate\n",
    "    X = stops[['LONGITUDE', 'LATITUDE']].copy()\n",
    "    \n",
    "    # Esegui DBSCAN con i parametri forniti\n",
    "    dbscan = DBSCAN(eps=eps, min_samples=min_samples)\n",
    "    clusters = dbscan.fit_predict(X)\n",
    "    \n",
    "    # Aggiungi il cluster ottenuto al DataFrame 'stops'\n",
    "    stops['cluster'] = clusters\n",
    "    \n",
    "    # Trova il centroide per ogni cluster escludendo il rumore (cluster -1)\n",
    "    centroids = stops[stops['cluster'] != -1].groupby('cluster')[['LONGITUDE', 'LATITUDE']].mean().reset_index()\n",
    "    centroids.rename(columns={'LONGITUDE': 'CENTROID_LONGITUDE', 'LATITUDE': 'CENTROID_LATITUDE'}, inplace=True)\n",
    "    \n",
    "    return centroids\n",
    "\n",
    "from geopy.distance import geodesic\n",
    "def calculate_precision_recall_f1(centroids, ports, max_distance_nautical_miles=10):\n",
    "    \"\"\"\n",
    "    Calcola la precisione, il richiamo e l'F1-score per i centroidi dei cluster rispetto ai porti sulla base della distanza.\n",
    "\n",
    "    Parametri:\n",
    "    - centroids: DataFrame contenente i centroidi dei cluster con colonne 'CENTROID_LONGITUDE' e 'CENTROID_LATITUDE'.\n",
    "    - ports: DataFrame contenente i dati dei porti con colonne 'LONGITUDE' e 'LATITUDE'.\n",
    "    - max_distance_nautical_miles: La distanza massima in miglia nautiche per considerare un centroide vicino a un porto.\n",
    "\n",
    "    Restituisce:\n",
    "    - precision: Precisione calcolata come TP / (TP + FP).\n",
    "    - recall: Richiamo calcolato come TP / (TP + FN).\n",
    "    - f1_score: F1-score calcolato come 2 * (precision * recall) / (precision + recall).\n",
    "    - tp_clusters: Lista dei cluster considerati True Positives.\n",
    "    - fp_clusters: Lista dei cluster considerati False Positives.\n",
    "    - fn_ports: Lista dei porti considerati False Negatives.\n",
    "    - total_clusters: Numero totale di cluster analizzati.\n",
    "    \"\"\"\n",
    "    # Soglia massima distanza in miglia nautiche (10 miglia nautiche corrispondono a circa 18.52 km)\n",
    "    max_distance_km = max_distance_nautical_miles * 1.852  # Conversione da miglia nautiche a chilometri\n",
    "    \n",
    "    # Liste per salvare TP, FP e FN\n",
    "    tp_clusters = []\n",
    "    fp_clusters = []\n",
    "    fn_ports = []\n",
    "    \n",
    "    # Funzione per calcolare la distanza tra due coordinate in km\n",
    "    def distance_in_km(coord1, coord2):\n",
    "        return geodesic(coord1, coord2).km\n",
    "\n",
    "    # Verifica ogni centroide se ha un porto vicino entro 10 miglia nautiche (Precisione)\n",
    "    for i, centroid in centroids.iterrows():\n",
    "        cluster_coord = (centroid['CENTROID_LATITUDE'], centroid['CENTROID_LONGITUDE'])\n",
    "        close_to_port = False\n",
    "        \n",
    "        # Controlla la distanza tra il centroide del cluster e ciascun porto\n",
    "        for _, port in ports.iterrows():\n",
    "            port_coord = (port['LATITUDE'], port['LONGITUDE'])\n",
    "            distance = distance_in_km(cluster_coord, port_coord)\n",
    "            \n",
    "            if distance <= max_distance_km:\n",
    "                close_to_port = True\n",
    "                break\n",
    "        \n",
    "        if close_to_port:\n",
    "            tp_clusters.append(centroid['cluster'])  # Aggiungi cluster ai True Positives\n",
    "        else:\n",
    "            fp_clusters.append(centroid['cluster'])  # Aggiungi cluster ai False Positives\n",
    "\n",
    "    # Verifica ogni porto se ha un centroide vicino entro 10 miglia nautiche (Recall)\n",
    "    for i, port in ports.iterrows():\n",
    "        port_coord = (port['LATITUDE'], port['LONGITUDE'])\n",
    "        close_to_cluster = False\n",
    "        \n",
    "        # Controlla la distanza tra il porto e ciascun centroide\n",
    "        for _, centroid in centroids.iterrows():\n",
    "            cluster_coord = (centroid['CENTROID_LATITUDE'], centroid['CENTROID_LONGITUDE'])\n",
    "            distance = distance_in_km(port_coord, cluster_coord)\n",
    "            \n",
    "            if distance <= max_distance_km:\n",
    "                close_to_cluster = True\n",
    "                break\n",
    "        \n",
    "        if not close_to_cluster:\n",
    "            fn_ports.append(port['PORT_CODE'])  # Aggiungi porto ai False Negatives\n",
    "\n",
    "    # Calcola Precision e Recall\n",
    "    tp = len(tp_clusters)\n",
    "    fp = len(fp_clusters)\n",
    "    fn = len(fn_ports)\n",
    "    \n",
    "    precision = tp / (tp + fp) if (tp + fp) > 0 else 0\n",
    "    recall = tp / (tp + fn) if (tp + fn) > 0 else 0\n",
    "\n",
    "    # Calcola F1-score\n",
    "    f1_score = 2 * (precision * recall) / (precision + recall) if (precision + recall) > 0 else 0\n",
    "    \n",
    "    total_clusters = tp + fp\n",
    "\n",
    "    return precision, recall, f1_score, total_clusters\n"
   ]
  },
  {
   "cell_type": "markdown",
   "id": "810a129d",
   "metadata": {
    "papermill": {
     "duration": 0.004219,
     "end_time": "2024-09-21T18:31:49.768108",
     "exception": false,
     "start_time": "2024-09-21T18:31:49.763889",
     "status": "completed"
    },
    "tags": []
   },
   "source": [
    "# Grid search"
   ]
  },
  {
   "cell_type": "code",
   "execution_count": 4,
   "id": "91a35d7c",
   "metadata": {
    "execution": {
     "iopub.execute_input": "2024-09-21T18:31:49.778767Z",
     "iopub.status.busy": "2024-09-21T18:31:49.778143Z",
     "iopub.status.idle": "2024-09-21T19:07:57.085053Z",
     "shell.execute_reply": "2024-09-21T19:07:57.083848Z"
    },
    "papermill": {
     "duration": 2167.314961,
     "end_time": "2024-09-21T19:07:57.087473",
     "exception": false,
     "start_time": "2024-09-21T18:31:49.772512",
     "status": "completed"
    },
    "tags": []
   },
   "outputs": [
    {
     "name": "stderr",
     "output_type": "stream",
     "text": [
      "100%|██████████| 50/50 [36:07<00:00, 43.35s/it]\n"
     ]
    }
   ],
   "source": [
    "results = []\n",
    "for e in tqdm(np.arange(0.00001, 0.005, 0.0001)):\n",
    "    for m in range(2, 6, 1):\n",
    "        centroids = dbscan_clustering(stops, eps=e, min_samples=m)\n",
    "        precision, recall, f1_score, total_clusters = calculate_precision_recall_f1(centroids, ports)\n",
    "        \n",
    "        # Aggiungi i risultati attuali alla lista\n",
    "        results.append({\n",
    "            'eps': e,\n",
    "            'min_samples': m,\n",
    "            'f1_score': f1_score,\n",
    "            'total_clusters': total_clusters \n",
    "        })\n",
    "results_df = pd.DataFrame(results)\n",
    "results_df.to_csv('/kaggle/working/grid_search_parameters.csv')"
   ]
  },
  {
   "cell_type": "markdown",
   "id": "17265980",
   "metadata": {
    "papermill": {
     "duration": 0.009367,
     "end_time": "2024-09-21T19:07:57.106322",
     "exception": false,
     "start_time": "2024-09-21T19:07:57.096955",
     "status": "completed"
    },
    "tags": []
   },
   "source": [
    "# Heatmap"
   ]
  },
  {
   "cell_type": "code",
   "execution_count": 5,
   "id": "1bbdc77b",
   "metadata": {
    "execution": {
     "iopub.execute_input": "2024-09-21T19:07:57.127770Z",
     "iopub.status.busy": "2024-09-21T19:07:57.127317Z",
     "iopub.status.idle": "2024-09-21T19:07:57.562093Z",
     "shell.execute_reply": "2024-09-21T19:07:57.560958Z"
    },
    "papermill": {
     "duration": 0.448236,
     "end_time": "2024-09-21T19:07:57.564650",
     "exception": false,
     "start_time": "2024-09-21T19:07:57.116414",
     "status": "completed"
    },
    "tags": []
   },
   "outputs": [
    {
     "data": {
      "image/png": "[encoded data removed]",
      "text/plain": [
       "<Figure size 800x600 with 2 Axes>"
      ]
     },
     "metadata": {},
     "output_type": "display_data"
    }
   ],
   "source": [
    "import matplotlib.pyplot as plt\n",
    "import numpy as np\n",
    "\n",
    "# Supponiamo che 'eps', 'min_samples', e 'f1_score' siano colonne di results_df\n",
    "x = results_df['eps'].values\n",
    "y = results_df['min_samples'].values\n",
    "z = results_df['f1_score'].values\n",
    "\n",
    "# Crea una griglia 2D da x e y\n",
    "X, Y = np.meshgrid(np.unique(x), np.unique(y))\n",
    "\n",
    "# Crea una matrice 2D per i valori di z (f1_score) corrispondente alla griglia\n",
    "Z = np.zeros_like(X, dtype=float)\n",
    "\n",
    "for i in range(len(x)):\n",
    "    xi = np.where(np.unique(x) == x[i])[0]\n",
    "    yi = np.where(np.unique(y) == y[i])[0]\n",
    "    Z[yi, xi] = z[i]\n",
    "\n",
    "# Crea la figura\n",
    "plt.figure(figsize=(8, 6))\n",
    "\n",
    "# Crea il grafico con i quadrati usando 'pcolormesh' e la palette 'viridis'\n",
    "plt.pcolormesh(X, Y, Z, shading='auto', cmap='viridis', edgecolor='k', linewidth=0.2)\n",
    "\n",
    "# Aggiungi la colorbar\n",
    "plt.colorbar(label='f1_score')\n",
    "\n",
    "# Aggiungi titolo e etichette\n",
    "plt.title('Griglia: eps vs min_samples colorato per f1_score')\n",
    "plt.xlabel('eps')\n",
    "plt.ylabel('min_samples')\n",
    "\n",
    "# Mostra il grafico\n",
    "plt.show()\n"
   ]
  },
  {
   "cell_type": "markdown",
   "id": "ace448b8",
   "metadata": {
    "papermill": {
     "duration": 0.010073,
     "end_time": "2024-09-21T19:07:57.585112",
     "exception": false,
     "start_time": "2024-09-21T19:07:57.575039",
     "status": "completed"
    },
    "tags": []
   },
   "source": [
    "# Estrai i migliori parametri "
   ]
  },
  {
   "cell_type": "code",
   "execution_count": 6,
   "id": "6c9b949d",
   "metadata": {
    "execution": {
     "iopub.execute_input": "2024-09-21T19:07:57.607037Z",
     "iopub.status.busy": "2024-09-21T19:07:57.606592Z",
     "iopub.status.idle": "2024-09-21T19:07:57.650949Z",
     "shell.execute_reply": "2024-09-21T19:07:57.649949Z"
    },
    "papermill": {
     "duration": 0.058303,
     "end_time": "2024-09-21T19:07:57.653442",
     "exception": false,
     "start_time": "2024-09-21T19:07:57.595139",
     "status": "completed"
    },
    "tags": []
   },
   "outputs": [
    {
     "name": "stderr",
     "output_type": "stream",
     "text": [
      "/tmp/ipykernel_17/2960279280.py:19: DeprecationWarning: DataFrameGroupBy.apply operated on the grouping columns. This behavior is deprecated, and in a future version of pandas the grouping columns will be excluded from the operation. Either pass `include_groups=False` to exclude the groupings or explicitly select the grouping columns after groupby to silence this warning.\n",
      "  centroids = centroids.groupby('cluster').apply(lambda x: x.sample(1)).reset_index(drop=True)\n"
     ]
    }
   ],
   "source": [
    "highest_recall_row = results_df.loc[results_df['f1_score'].idxmax()]\n",
    "centroids = dbscan_clustering(stops, eps=highest_recall_row['eps'], min_samples=int(np.round(highest_recall_row['min_samples'])))\n",
    "coordinates =centroids[['CENTROID_LONGITUDE', 'CENTROID_LATITUDE']]\n",
    "\n",
    "# Standardizza i dati\n",
    "scaler = StandardScaler()\n",
    "scaled_coordinates = scaler.fit_transform(coordinates)\n",
    "\n",
    "# Crea e applica l'algoritmo DBSCAN\n",
    "db = DBSCAN(eps=0.1, min_samples=1).fit(scaled_coordinates)\n",
    "\n",
    "# Aggiungi i cluster al DataFrame\n",
    "centroids['cluster'] = db.labels_\n",
    "\n",
    "# Trova i cluster unici\n",
    "clusters = centroids['cluster'].unique()\n",
    "\n",
    "# Campiona un punto per ogni cluster\n",
    "centroids = centroids.groupby('cluster').apply(lambda x: x.sample(1)).reset_index(drop=True)\n",
    "\n",
    "centroids.to_csv('/kaggle/working/best_centroids.csv')"
   ]
  },
  {
   "cell_type": "code",
   "execution_count": 7,
   "id": "48f42a01",
   "metadata": {
    "execution": {
     "iopub.execute_input": "2024-09-21T19:07:57.675513Z",
     "iopub.status.busy": "2024-09-21T19:07:57.675080Z",
     "iopub.status.idle": "2024-09-21T19:07:58.602251Z",
     "shell.execute_reply": "2024-09-21T19:07:58.601142Z"
    },
    "papermill": {
     "duration": 0.941248,
     "end_time": "2024-09-21T19:07:58.604780",
     "exception": false,
     "start_time": "2024-09-21T19:07:57.663532",
     "status": "completed"
    },
    "tags": []
   },
   "outputs": [
    {
     "name": "stderr",
     "output_type": "stream",
     "text": [
      "/tmp/ipykernel_17/2086425615.py:18: UserWarning: Column names longer than 10 characters will be truncated when saved to ESRI Shapefile.\n",
      "  gdf.to_file('output_shapefile.shp')\n"
     ]
    }
   ],
   "source": [
    "import pandas as pd\n",
    "import geopandas as gpd\n",
    "from shapely.geometry import Point\n",
    "\n",
    "\n",
    "\n",
    "centroids.columns\n",
    "# Convertire il DataFrame in geometrie di punti\n",
    "geometry = [Point(xy) for xy in zip(centroids['CENTROID_LONGITUDE'], centroids['CENTROID_LATITUDE'])]\n",
    "\n",
    "# Creare un GeoDataFrame\n",
    "gdf = gpd.GeoDataFrame(centroids, geometry=geometry)\n",
    "\n",
    "# Impostare un sistema di riferimento spaziale (SRID), ad esempio WGS84\n",
    "gdf.crs = \"EPSG:4326\"\n",
    "\n",
    "# Esportare come shapefile\n",
    "gdf.to_file('output_shapefile.shp')"
   ]
  }
 ],
 "metadata": {
  "kaggle": {
   "accelerator": "none",
   "dataSources": [
    {
     "datasetId": 5721684,
     "sourceId": 9420328,
     "sourceType": "datasetVersion"
    },
    {
     "datasetId": 5744686,
     "sourceId": 9451093,
     "sourceType": "datasetVersion"
    }
   ],
   "dockerImageVersionId": 30761,
   "isGpuEnabled": false,
   "isInternetEnabled": true,
   "language": "python",
   "sourceType": "notebook"
  },
  "kernelspec": {
   "display_name": "Python 3",
   "language": "python",
   "name": "python3"
  },
  "language_info": {
   "codemirror_mode": {
    "name": "ipython",
    "version": 3
   },
   "file_extension": ".py",
   "mimetype": "text/x-python",
   "name": "python",
   "nbconvert_exporter": "python",
   "pygments_lexer": "ipython3",
   "version": "3.10.14"
  },
  "papermill": {
   "default_parameters": {},
   "duration": 2175.486346,
   "end_time": "2024-09-21T19:07:59.336103",
   "environment_variables": {},
   "exception": null,
   "input_path": "__notebook__.ipynb",
   "output_path": "__notebook__.ipynb",
   "parameters": {},
   "start_time": "2024-09-21T18:31:43.849757",
   "version": "2.6.0"
  }
 },
 "nbformat": 4,
 "nbformat_minor": 5
}
