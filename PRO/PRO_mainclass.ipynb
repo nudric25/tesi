{
  "nbformat": 4,
  "nbformat_minor": 0,
  "metadata": {
    "colab": {
      "provenance": []
    },
    "kernelspec": {
      "name": "python3",
      "display_name": "Python 3"
    },
    "language_info": {
      "name": "python"
    }
  },
  "cells": [
    {
      "cell_type": "code",
      "source": [
        "from google.colab import drive\n",
        "drive.mount('/content/drive')\n",
        "\n",
        "import os\n",
        "import shutil\n",
        "import random"
      ],
      "metadata": {
        "colab": {
          "base_uri": "https://localhost:8080/"
        },
        "id": "ttu6TNmnWm3e",
        "outputId": "a0c7a16c-a70e-41ce-c325-59a0f97ca40e"
      },
      "execution_count": 1,
      "outputs": [
        {
          "output_type": "stream",
          "name": "stdout",
          "text": [
            "Mounted at /content/drive\n"
          ]
        }
      ]
    },
    {
      "cell_type": "code",
      "execution_count": null,
      "metadata": {
        "id": "1MMZsrI-Wiai"
      },
      "outputs": [],
      "source": [
        "\n",
        "dir_path = '/content/drive/MyDrive/JN_Shipping/uk_port_ranking'\n",
        "files = os.listdir(dir_path)\n",
        "emissions_files = [file_name for file_name in files if file_name.endswith('_emissions_hourly.csv')]\n"
      ]
    },
    {
      "cell_type": "code",
      "source": [
        "source_folder = '/content/drive/MyDrive/JN_Shipping/uk_port_ranking'\n",
        "destination_folder = '/content/drive/MyDrive/Data Tesi Luca'\n",
        "random_files = random.sample(emissions_files, 300)\n",
        "for file_name in tqdm(random_files):\n",
        "    source_file = os.path.join(source_folder, file_name)\n",
        "    destination_file = os.path.join(destination_folder, file_name)\n",
        "    if os.path.isfile(source_file):\n",
        "        shutil.copy(source_file, destination_file)\n",
        "        print(f\"{file_name} copiato in {destination_folder}\")\n"
      ],
      "metadata": {
        "id": "LgkpGe5db5Gt"
      },
      "execution_count": null,
      "outputs": []
    }
  ]
}